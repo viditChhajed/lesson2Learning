{
  "nbformat": 4,
  "nbformat_minor": 0,
  "metadata": {
    "colab": {
      "name": "Lesson 2",
      "provenance": []
    },
    "kernelspec": {
      "name": "python3",
      "display_name": "Python 3"
    },
    "language_info": {
      "name": "python"
    }
  },
  "cells": [
    {
      "cell_type": "code",
      "metadata": {
        "id": "IslaSVuBdIgn"
      },
      "source": [
        "import math"
      ],
      "execution_count": 1,
      "outputs": []
    },
    {
      "cell_type": "code",
      "metadata": {
        "colab": {
          "base_uri": "https://localhost:8080/"
        },
        "id": "aVq03WA2hF8F",
        "outputId": "f21fd215-b08f-4fc0-8229-3fc2ebcc51f5"
      },
      "source": [
        "myFirstNumber=float(input('What is you favorite number '))"
      ],
      "execution_count": 4,
      "outputs": [
        {
          "output_type": "stream",
          "text": [
            "What is you favorite number 97.2\n"
          ],
          "name": "stdout"
        }
      ]
    },
    {
      "cell_type": "code",
      "metadata": {
        "colab": {
          "base_uri": "https://localhost:8080/"
        },
        "id": "7dYQPitdhQSb",
        "outputId": "42fb7dd3-5e9c-4c0f-8ee6-77ce88664eb7"
      },
      "source": [
        "print(math.factorial(math.floor(myFirstNumber)))"
      ],
      "execution_count": 9,
      "outputs": [
        {
          "output_type": "stream",
          "text": [
            "96192759682482119853328425949563698712343813919172976158104477319333745612481875498805879175589072651261284189679678167647067832320000000000000000000000\n"
          ],
          "name": "stdout"
        }
      ]
    },
    {
      "cell_type": "code",
      "metadata": {
        "colab": {
          "base_uri": "https://localhost:8080/"
        },
        "id": "ivQVtRn0hZUD",
        "outputId": "c9e06b88-3cd4-49b9-eeb3-812f8ab41616"
      },
      "source": [
        "print(math.ceil(myFirstNumber))"
      ],
      "execution_count": 10,
      "outputs": [
        {
          "output_type": "stream",
          "text": [
            "98\n"
          ],
          "name": "stdout"
        }
      ]
    },
    {
      "cell_type": "code",
      "metadata": {
        "colab": {
          "base_uri": "https://localhost:8080/"
        },
        "id": "UvRrqn5BiMEM",
        "outputId": "585281ca-442c-4a44-ae6b-1dd8e75e8120"
      },
      "source": [
        "print(math.floor(myFirstNumber))"
      ],
      "execution_count": 11,
      "outputs": [
        {
          "output_type": "stream",
          "text": [
            "97\n"
          ],
          "name": "stdout"
        }
      ]
    },
    {
      "cell_type": "code",
      "metadata": {
        "colab": {
          "base_uri": "https://localhost:8080/"
        },
        "id": "vwGfYRaNiQsn",
        "outputId": "e7957fd2-281e-4670-a808-b6345d276ae1"
      },
      "source": [
        "print(math.sqrt(myFirstNumber))"
      ],
      "execution_count": 12,
      "outputs": [
        {
          "output_type": "stream",
          "text": [
            "9.85900603509299\n"
          ],
          "name": "stdout"
        }
      ]
    },
    {
      "cell_type": "code",
      "metadata": {
        "colab": {
          "base_uri": "https://localhost:8080/"
        },
        "id": "97EimgUyiT2C",
        "outputId": "28052bec-6c01-44b7-e81c-eb73f8d4cb82"
      },
      "source": [
        "print(972**3)"
      ],
      "execution_count": 15,
      "outputs": [
        {
          "output_type": "stream",
          "text": [
            "918330048\n"
          ],
          "name": "stdout"
        }
      ]
    },
    {
      "cell_type": "code",
      "metadata": {
        "id": "yw_YX-HcifNn"
      },
      "source": [
        "#three inputs, number1,number2,operator,enter 1 for +...,if operator = 1 do"
      ],
      "execution_count": 16,
      "outputs": []
    },
    {
      "cell_type": "code",
      "metadata": {
        "colab": {
          "base_uri": "https://localhost:8080/"
        },
        "id": "3RZ5ttWJn0wm",
        "outputId": "c7a325fd-93cd-42a9-ee62-60166556f17d"
      },
      "source": [
        "number1=int(input('What is your first number? '))"
      ],
      "execution_count": 18,
      "outputs": [
        {
          "output_type": "stream",
          "text": [
            "What is your first number 972\n"
          ],
          "name": "stdout"
        }
      ]
    },
    {
      "cell_type": "code",
      "metadata": {
        "colab": {
          "base_uri": "https://localhost:8080/"
        },
        "id": "RIa0Kt6gn91L",
        "outputId": "7016d77a-eb35-4a11-af8e-353e636e3f64"
      },
      "source": [
        "number2=int(input('What is your second number? '))"
      ],
      "execution_count": 19,
      "outputs": [
        {
          "output_type": "stream",
          "text": [
            "What is your second number? 37\n"
          ],
          "name": "stdout"
        }
      ]
    },
    {
      "cell_type": "code",
      "metadata": {
        "colab": {
          "base_uri": "https://localhost:8080/"
        },
        "id": "D0xV_OlAoE56",
        "outputId": "3cc6b1f6-9a61-4753-ae96-ffa10306f05f"
      },
      "source": [
        "operator=int(input('What is your operator? Enter 1 for addition. Enter 2 for subtraction. Enter 3 for multiplication. Enter 4 for division. Enter 5 for remainder. Enter 6 for all results '))"
      ],
      "execution_count": 25,
      "outputs": [
        {
          "output_type": "stream",
          "text": [
            "What is your operator? Enter 1 for addition. Enter 2 for subtraction. Enter 3 for multiplication. Enter 4 for division. Enter 5 for remainder. Enter 6 for all results 1\n"
          ],
          "name": "stdout"
        }
      ]
    },
    {
      "cell_type": "code",
      "metadata": {
        "colab": {
          "base_uri": "https://localhost:8080/"
        },
        "id": "6wIXI7nJomiE",
        "outputId": "78cea04a-2f40-4f8f-f31d-f2a5c55fafe2"
      },
      "source": [
        "if operator==1:\n",
        "  print(number1+number2)\n",
        "elif operator==2:\n",
        "    print(number1-number2)\n",
        "elif operator==3:\n",
        "    print(number1*number2)\n",
        "elif operator==4:\n",
        "    print(number1/number2)\n",
        "elif operator==5:\n",
        "  print(number1%number2)\n",
        "elif operator==6:\n",
        "  print(number1+number2,number1-number2,number1*number2,number1/number2,number1%number2)\n",
        "  \n",
        "\n",
        "\n",
        "  \n",
        "else :\n",
        "  print('Error you have not picked 1,2,3,4,5,6.')\n",
        "\n",
        "\n",
        "\n"
      ],
      "execution_count": 26,
      "outputs": [
        {
          "output_type": "stream",
          "text": [
            "1009\n"
          ],
          "name": "stdout"
        }
      ]
    },
    {
      "cell_type": "code",
      "metadata": {
        "id": "8nKCa9BjpSRV"
      },
      "source": [
        "#message for family greeting system"
      ],
      "execution_count": null,
      "outputs": []
    }
  ]
}